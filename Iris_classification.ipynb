{
  "cells": [
    {
      "cell_type": "code",
      "execution_count": null,
      "metadata": {
        "id": "ewgVRDQ6uApU"
      },
      "outputs": [],
      "source": [
        "import pandas as pd\n",
        "from sklearn import neighbors\n",
        "from sklearn import tree\n",
        "from sklearn.linear_model import LogisticRegression\n",
        "from sklearn.metrics import accuracy_score\n",
        "from sklearn.model_selection import train_test_split"
      ]
    },
    {
      "cell_type": "code",
      "execution_count": null,
      "metadata": {
        "id": "KwlSzQ5-uaic"
      },
      "outputs": [],
      "source": []
    },
    {
      "cell_type": "code",
      "execution_count": null,
      "metadata": {
        "colab": {
          "base_uri": "https://localhost:8080/"
        },
        "id": "uLkGhBs_wKKj",
        "outputId": "f3b1a4bb-ca1d-4567-c1f2-434dade5f6a2"
      },
      "outputs": [
        {
          "output_type": "stream",
          "name": "stdout",
          "text": [
            "Path to dataset files: /root/.cache/kagglehub/datasets/uciml/iris/versions/2\n"
          ]
        }
      ],
      "source": [
        "import kagglehub\n",
        "\n",
        "# Download latest version\n",
        "path = kagglehub.dataset_download(\"uciml/iris\")\n",
        "\n",
        "print(\"Path to dataset files:\", path)"
      ]
    },
    {
      "cell_type": "code",
      "execution_count": null,
      "metadata": {
        "id": "dsPfYDnzwRkD"
      },
      "outputs": [],
      "source": [
        "import zipfile\n",
        "\n",
        "with zipfile.ZipFile('/content/zip.zip', 'r') as zip_ref:\n",
        "    zip_ref.extractall('bath/to/destination/folder')\n"
      ]
    },
    {
      "cell_type": "code",
      "execution_count": null,
      "metadata": {
        "colab": {
          "base_uri": "https://localhost:8080/",
          "height": 206
        },
        "id": "_lLZOmfpxSCM",
        "outputId": "99c377ae-d934-41af-fa3f-ed7574a97f49"
      },
      "outputs": [
        {
          "output_type": "execute_result",
          "data": {
            "text/plain": [
              "   Id  SepalLengthCm  SepalWidthCm  PetalLengthCm  PetalWidthCm      Species\n",
              "0   1            5.1           3.5            1.4           0.2  Iris-setosa\n",
              "1   2            4.9           3.0            1.4           0.2  Iris-setosa\n",
              "2   3            4.7           3.2            1.3           0.2  Iris-setosa\n",
              "3   4            4.6           3.1            1.5           0.2  Iris-setosa\n",
              "4   5            5.0           3.6            1.4           0.2  Iris-setosa"
            ],
            "text/html": [
              "\n",
              "  <div id=\"df-4e7a8ecf-71a2-4383-8a01-6c569f99ac4b\" class=\"colab-df-container\">\n",
              "    <div>\n",
              "<style scoped>\n",
              "    .dataframe tbody tr th:only-of-type {\n",
              "        vertical-align: middle;\n",
              "    }\n",
              "\n",
              "    .dataframe tbody tr th {\n",
              "        vertical-align: top;\n",
              "    }\n",
              "\n",
              "    .dataframe thead th {\n",
              "        text-align: right;\n",
              "    }\n",
              "</style>\n",
              "<table border=\"1\" class=\"dataframe\">\n",
              "  <thead>\n",
              "    <tr style=\"text-align: right;\">\n",
              "      <th></th>\n",
              "      <th>Id</th>\n",
              "      <th>SepalLengthCm</th>\n",
              "      <th>SepalWidthCm</th>\n",
              "      <th>PetalLengthCm</th>\n",
              "      <th>PetalWidthCm</th>\n",
              "      <th>Species</th>\n",
              "    </tr>\n",
              "  </thead>\n",
              "  <tbody>\n",
              "    <tr>\n",
              "      <th>0</th>\n",
              "      <td>1</td>\n",
              "      <td>5.1</td>\n",
              "      <td>3.5</td>\n",
              "      <td>1.4</td>\n",
              "      <td>0.2</td>\n",
              "      <td>Iris-setosa</td>\n",
              "    </tr>\n",
              "    <tr>\n",
              "      <th>1</th>\n",
              "      <td>2</td>\n",
              "      <td>4.9</td>\n",
              "      <td>3.0</td>\n",
              "      <td>1.4</td>\n",
              "      <td>0.2</td>\n",
              "      <td>Iris-setosa</td>\n",
              "    </tr>\n",
              "    <tr>\n",
              "      <th>2</th>\n",
              "      <td>3</td>\n",
              "      <td>4.7</td>\n",
              "      <td>3.2</td>\n",
              "      <td>1.3</td>\n",
              "      <td>0.2</td>\n",
              "      <td>Iris-setosa</td>\n",
              "    </tr>\n",
              "    <tr>\n",
              "      <th>3</th>\n",
              "      <td>4</td>\n",
              "      <td>4.6</td>\n",
              "      <td>3.1</td>\n",
              "      <td>1.5</td>\n",
              "      <td>0.2</td>\n",
              "      <td>Iris-setosa</td>\n",
              "    </tr>\n",
              "    <tr>\n",
              "      <th>4</th>\n",
              "      <td>5</td>\n",
              "      <td>5.0</td>\n",
              "      <td>3.6</td>\n",
              "      <td>1.4</td>\n",
              "      <td>0.2</td>\n",
              "      <td>Iris-setosa</td>\n",
              "    </tr>\n",
              "  </tbody>\n",
              "</table>\n",
              "</div>\n",
              "    <div class=\"colab-df-buttons\">\n",
              "      \n",
              "  <div class=\"colab-df-container\">\n",
              "    <button class=\"colab-df-convert\" onclick=\"convertToInteractive('df-4e7a8ecf-71a2-4383-8a01-6c569f99ac4b')\"\n",
              "            title=\"Convert this dataframe to an interactive table.\"\n",
              "            style=\"display:none;\">\n",
              "      \n",
              "  <svg xmlns=\"http://www.w3.org/2000/svg\" height=\"24px\" viewBox=\"0 -960 960 960\">\n",
              "    <path d=\"M120-120v-720h720v720H120Zm60-500h600v-160H180v160Zm220 220h160v-160H400v160Zm0 220h160v-160H400v160ZM180-400h160v-160H180v160Zm440 0h160v-160H620v160ZM180-180h160v-160H180v160Zm440 0h160v-160H620v160Z\"/>\n",
              "  </svg>\n",
              "    </button>\n",
              "    \n",
              "  <style>\n",
              "    .colab-df-container {\n",
              "      display:flex;\n",
              "      gap: 12px;\n",
              "    }\n",
              "\n",
              "    .colab-df-convert {\n",
              "      background-color: #E8F0FE;\n",
              "      border: none;\n",
              "      border-radius: 50%;\n",
              "      cursor: pointer;\n",
              "      display: none;\n",
              "      fill: #1967D2;\n",
              "      height: 32px;\n",
              "      padding: 0 0 0 0;\n",
              "      width: 32px;\n",
              "    }\n",
              "\n",
              "    .colab-df-convert:hover {\n",
              "      background-color: #E2EBFA;\n",
              "      box-shadow: 0px 1px 2px rgba(60, 64, 67, 0.3), 0px 1px 3px 1px rgba(60, 64, 67, 0.15);\n",
              "      fill: #174EA6;\n",
              "    }\n",
              "\n",
              "    .colab-df-buttons div {\n",
              "      margin-bottom: 4px;\n",
              "    }\n",
              "\n",
              "    [theme=dark] .colab-df-convert {\n",
              "      background-color: #3B4455;\n",
              "      fill: #D2E3FC;\n",
              "    }\n",
              "\n",
              "    [theme=dark] .colab-df-convert:hover {\n",
              "      background-color: #434B5C;\n",
              "      box-shadow: 0px 1px 3px 1px rgba(0, 0, 0, 0.15);\n",
              "      filter: drop-shadow(0px 1px 2px rgba(0, 0, 0, 0.3));\n",
              "      fill: #FFFFFF;\n",
              "    }\n",
              "  </style>\n",
              "\n",
              "    <script>\n",
              "      const buttonEl =\n",
              "        document.querySelector('#df-4e7a8ecf-71a2-4383-8a01-6c569f99ac4b button.colab-df-convert');\n",
              "      buttonEl.style.display =\n",
              "        google.colab.kernel.accessAllowed ? 'block' : 'none';\n",
              "\n",
              "      async function convertToInteractive(key) {\n",
              "        const element = document.querySelector('#df-4e7a8ecf-71a2-4383-8a01-6c569f99ac4b');\n",
              "        const dataTable =\n",
              "          await google.colab.kernel.invokeFunction('convertToInteractive',\n",
              "                                                    [key], {});\n",
              "        if (!dataTable) return;\n",
              "\n",
              "        const docLinkHtml = 'Like what you see? Visit the ' +\n",
              "          '<a target=\"_blank\" href=https://colab.research.google.com/notebooks/data_table.ipynb>data table notebook</a>'\n",
              "          + ' to learn more about interactive tables.';\n",
              "        element.innerHTML = '';\n",
              "        dataTable['output_type'] = 'display_data';\n",
              "        await google.colab.output.renderOutput(dataTable, element);\n",
              "        const docLink = document.createElement('div');\n",
              "        docLink.innerHTML = docLinkHtml;\n",
              "        element.appendChild(docLink);\n",
              "      }\n",
              "    </script>\n",
              "  </div>\n",
              "  \n",
              "    </div>\n",
              "  </div>\n",
              "  "
            ],
            "application/vnd.google.colaboratory.intrinsic+json": {
              "type": "dataframe",
              "variable_name": "iris_data",
              "summary": "{\n  \"name\": \"iris_data\",\n  \"rows\": 150,\n  \"fields\": [\n    {\n      \"column\": \"Id\",\n      \"properties\": {\n        \"dtype\": \"number\",\n        \"std\": 43,\n        \"min\": 1,\n        \"max\": 150,\n        \"num_unique_values\": 150,\n        \"samples\": [\n          74,\n          19,\n          119\n        ],\n        \"semantic_type\": \"\",\n        \"description\": \"\"\n      }\n    },\n    {\n      \"column\": \"SepalLengthCm\",\n      \"properties\": {\n        \"dtype\": \"number\",\n        \"std\": 0.8280661279778629,\n        \"min\": 4.3,\n        \"max\": 7.9,\n        \"num_unique_values\": 35,\n        \"samples\": [\n          6.2,\n          4.5,\n          5.6\n        ],\n        \"semantic_type\": \"\",\n        \"description\": \"\"\n      }\n    },\n    {\n      \"column\": \"SepalWidthCm\",\n      \"properties\": {\n        \"dtype\": \"number\",\n        \"std\": 0.4335943113621737,\n        \"min\": 2.0,\n        \"max\": 4.4,\n        \"num_unique_values\": 23,\n        \"samples\": [\n          2.3,\n          4.0,\n          3.5\n        ],\n        \"semantic_type\": \"\",\n        \"description\": \"\"\n      }\n    },\n    {\n      \"column\": \"PetalLengthCm\",\n      \"properties\": {\n        \"dtype\": \"number\",\n        \"std\": 1.7644204199522617,\n        \"min\": 1.0,\n        \"max\": 6.9,\n        \"num_unique_values\": 43,\n        \"samples\": [\n          6.7,\n          3.8,\n          3.7\n        ],\n        \"semantic_type\": \"\",\n        \"description\": \"\"\n      }\n    },\n    {\n      \"column\": \"PetalWidthCm\",\n      \"properties\": {\n        \"dtype\": \"number\",\n        \"std\": 0.7631607417008414,\n        \"min\": 0.1,\n        \"max\": 2.5,\n        \"num_unique_values\": 22,\n        \"samples\": [\n          0.2,\n          1.2,\n          1.3\n        ],\n        \"semantic_type\": \"\",\n        \"description\": \"\"\n      }\n    },\n    {\n      \"column\": \"Species\",\n      \"properties\": {\n        \"dtype\": \"category\",\n        \"num_unique_values\": 3,\n        \"samples\": [\n          \"Iris-setosa\",\n          \"Iris-versicolor\",\n          \"Iris-virginica\"\n        ],\n        \"semantic_type\": \"\",\n        \"description\": \"\"\n      }\n    }\n  ]\n}"
            }
          },
          "metadata": {},
          "execution_count": 31
        }
      ],
      "source": [
        "df = pd.read_csv('/content/bath/to/destination/folder/Iris.csv')\n",
        "iris_data = df.copy()\n",
        "iris_data.head()"
      ]
    },
    {
      "cell_type": "code",
      "execution_count": null,
      "metadata": {
        "id": "tP5SAELCyFM-"
      },
      "outputs": [],
      "source": [
        "# %% Filtering the Data\n",
        "iris_data = iris_data.drop('Id', axis=1)"
      ]
    },
    {
      "cell_type": "code",
      "execution_count": null,
      "metadata": {
        "id": "GMRLaffTyJpd"
      },
      "outputs": [],
      "source": [
        "# %% Splitting the Train and Test Data\n",
        "x = iris_data.drop('Species', axis=1)\n",
        "y = iris_data['Species']"
      ]
    },
    {
      "cell_type": "code",
      "execution_count": null,
      "metadata": {
        "id": "1p5U8SU8yWu6"
      },
      "outputs": [],
      "source": [
        "x_train, x_test, y_train, y_test = train_test_split(x, y, train_size=0.75)"
      ]
    },
    {
      "cell_type": "code",
      "execution_count": null,
      "metadata": {
        "colab": {
          "base_uri": "https://localhost:8080/"
        },
        "id": "F2ELm5SEyZfF",
        "outputId": "f7c6fe8e-263e-4266-e4bf-ee5df91ea110"
      },
      "outputs": [
        {
          "output_type": "stream",
          "name": "stdout",
          "text": [
            "Accuracy with Logistic Regression is 92.11\n"
          ]
        }
      ],
      "source": [
        "# %% Logistic Regression\n",
        "logistic_regression = LogisticRegression(solver='liblinear')\n",
        "logistic_regression.fit(x_train, y_train)\n",
        "logistic_predictions = logistic_regression.predict(x_test)\n",
        "print('Accuracy with Logistic Regression is %.2f' % (accuracy_score(y_test, logistic_predictions) * 100))"
      ]
    },
    {
      "cell_type": "code",
      "execution_count": null,
      "metadata": {
        "colab": {
          "base_uri": "https://localhost:8080/"
        },
        "id": "ZWpht7wAyf68",
        "outputId": "ba3204b7-5698-4cc3-a44f-dd77f8555512"
      },
      "outputs": [
        {
          "output_type": "stream",
          "name": "stdout",
          "text": [
            "Accuracy with KNeighborsClassifier is 94.74\n"
          ]
        }
      ],
      "source": [
        "# %% KNeighborsClassifier\n",
        "k_classifier = neighbors.KNeighborsClassifier()\n",
        "k_classifier.fit(x_train, y_train)\n",
        "k_neighbors_predictions = k_classifier.predict(x_test)\n",
        "print('Accuracy with KNeighborsClassifier is %.2f' % (accuracy_score(y_test, k_neighbors_predictions) * 100))"
      ]
    },
    {
      "cell_type": "code",
      "execution_count": null,
      "metadata": {
        "colab": {
          "base_uri": "https://localhost:8080/"
        },
        "id": "V8BR20Wryl_1",
        "outputId": "083aaeb0-2e5c-4198-c977-7e5b6ba140a7"
      },
      "outputs": [
        {
          "output_type": "stream",
          "name": "stdout",
          "text": [
            "Accuracy with DecisionTreeClassifier is 94.74\n"
          ]
        }
      ],
      "source": [
        "# %% DecisionTreeClassifier\n",
        "decision_classifier = tree.DecisionTreeClassifier()\n",
        "decision_classifier.fit(x_train, y_train)\n",
        "decision_classifier_predictions = decision_classifier.predict(x_test)\n",
        "print('Accuracy with DecisionTreeClassifier is %.2f' % (accuracy_score(y_test, decision_classifier_predictions) * 100))"
      ]
    },
    {
      "cell_type": "code",
      "execution_count": null,
      "metadata": {
        "id": "w-_Of26HytvG"
      },
      "outputs": [],
      "source": [
        "# %% Creating a Comparison DataFrame with The predictions with all 3 Algorithms and its accuracy\n",
        "result_data = [logistic_predictions, k_neighbors_predictions, decision_classifier_predictions]\n",
        "result_predictions = [(accuracy_score(y_test, logistic_predictions) * 100),\n",
        " (accuracy_score(y_test, k_neighbors_predictions) * 100),\n",
        " (accuracy_score(y_test, decision_classifier_predictions) * 100)]\n",
        "data_frame = pd.DataFrame([result_data, result_predictions],\n",
        " columns=['Logistic Regression', 'KNeighborsClassification', 'DecisionTreeClassification'])\n",
        "data_frame = data_frame.T\n",
        "data_frame.columns = ['Predictions', 'Accuracy']"
      ]
    },
    {
      "cell_type": "code",
      "execution_count": null,
      "metadata": {
        "colab": {
          "base_uri": "https://localhost:8080/",
          "height": 143
        },
        "id": "kz6zUSzAy7RS",
        "outputId": "4889c4b5-327d-4a7e-c346-15a5292764fa"
      },
      "outputs": [
        {
          "output_type": "execute_result",
          "data": {
            "text/plain": [
              "                                                                  Predictions  \\\n",
              "Logistic Regression         [Iris-virginica, Iris-setosa, Iris-versicolor,...   \n",
              "KNeighborsClassification    [Iris-virginica, Iris-setosa, Iris-versicolor,...   \n",
              "DecisionTreeClassification  [Iris-virginica, Iris-setosa, Iris-versicolor,...   \n",
              "\n",
              "                             Accuracy  \n",
              "Logistic Regression         92.105263  \n",
              "KNeighborsClassification    94.736842  \n",
              "DecisionTreeClassification  94.736842  "
            ],
            "text/html": [
              "\n",
              "  <div id=\"df-b8db0e01-c1f8-4bdf-9f29-61c9ed57d2a1\" class=\"colab-df-container\">\n",
              "    <div>\n",
              "<style scoped>\n",
              "    .dataframe tbody tr th:only-of-type {\n",
              "        vertical-align: middle;\n",
              "    }\n",
              "\n",
              "    .dataframe tbody tr th {\n",
              "        vertical-align: top;\n",
              "    }\n",
              "\n",
              "    .dataframe thead th {\n",
              "        text-align: right;\n",
              "    }\n",
              "</style>\n",
              "<table border=\"1\" class=\"dataframe\">\n",
              "  <thead>\n",
              "    <tr style=\"text-align: right;\">\n",
              "      <th></th>\n",
              "      <th>Predictions</th>\n",
              "      <th>Accuracy</th>\n",
              "    </tr>\n",
              "  </thead>\n",
              "  <tbody>\n",
              "    <tr>\n",
              "      <th>Logistic Regression</th>\n",
              "      <td>[Iris-virginica, Iris-setosa, Iris-versicolor,...</td>\n",
              "      <td>92.105263</td>\n",
              "    </tr>\n",
              "    <tr>\n",
              "      <th>KNeighborsClassification</th>\n",
              "      <td>[Iris-virginica, Iris-setosa, Iris-versicolor,...</td>\n",
              "      <td>94.736842</td>\n",
              "    </tr>\n",
              "    <tr>\n",
              "      <th>DecisionTreeClassification</th>\n",
              "      <td>[Iris-virginica, Iris-setosa, Iris-versicolor,...</td>\n",
              "      <td>94.736842</td>\n",
              "    </tr>\n",
              "  </tbody>\n",
              "</table>\n",
              "</div>\n",
              "    <div class=\"colab-df-buttons\">\n",
              "      \n",
              "  <div class=\"colab-df-container\">\n",
              "    <button class=\"colab-df-convert\" onclick=\"convertToInteractive('df-b8db0e01-c1f8-4bdf-9f29-61c9ed57d2a1')\"\n",
              "            title=\"Convert this dataframe to an interactive table.\"\n",
              "            style=\"display:none;\">\n",
              "      \n",
              "  <svg xmlns=\"http://www.w3.org/2000/svg\" height=\"24px\" viewBox=\"0 -960 960 960\">\n",
              "    <path d=\"M120-120v-720h720v720H120Zm60-500h600v-160H180v160Zm220 220h160v-160H400v160Zm0 220h160v-160H400v160ZM180-400h160v-160H180v160Zm440 0h160v-160H620v160ZM180-180h160v-160H180v160Zm440 0h160v-160H620v160Z\"/>\n",
              "  </svg>\n",
              "    </button>\n",
              "    \n",
              "  <style>\n",
              "    .colab-df-container {\n",
              "      display:flex;\n",
              "      gap: 12px;\n",
              "    }\n",
              "\n",
              "    .colab-df-convert {\n",
              "      background-color: #E8F0FE;\n",
              "      border: none;\n",
              "      border-radius: 50%;\n",
              "      cursor: pointer;\n",
              "      display: none;\n",
              "      fill: #1967D2;\n",
              "      height: 32px;\n",
              "      padding: 0 0 0 0;\n",
              "      width: 32px;\n",
              "    }\n",
              "\n",
              "    .colab-df-convert:hover {\n",
              "      background-color: #E2EBFA;\n",
              "      box-shadow: 0px 1px 2px rgba(60, 64, 67, 0.3), 0px 1px 3px 1px rgba(60, 64, 67, 0.15);\n",
              "      fill: #174EA6;\n",
              "    }\n",
              "\n",
              "    .colab-df-buttons div {\n",
              "      margin-bottom: 4px;\n",
              "    }\n",
              "\n",
              "    [theme=dark] .colab-df-convert {\n",
              "      background-color: #3B4455;\n",
              "      fill: #D2E3FC;\n",
              "    }\n",
              "\n",
              "    [theme=dark] .colab-df-convert:hover {\n",
              "      background-color: #434B5C;\n",
              "      box-shadow: 0px 1px 3px 1px rgba(0, 0, 0, 0.15);\n",
              "      filter: drop-shadow(0px 1px 2px rgba(0, 0, 0, 0.3));\n",
              "      fill: #FFFFFF;\n",
              "    }\n",
              "  </style>\n",
              "\n",
              "    <script>\n",
              "      const buttonEl =\n",
              "        document.querySelector('#df-b8db0e01-c1f8-4bdf-9f29-61c9ed57d2a1 button.colab-df-convert');\n",
              "      buttonEl.style.display =\n",
              "        google.colab.kernel.accessAllowed ? 'block' : 'none';\n",
              "\n",
              "      async function convertToInteractive(key) {\n",
              "        const element = document.querySelector('#df-b8db0e01-c1f8-4bdf-9f29-61c9ed57d2a1');\n",
              "        const dataTable =\n",
              "          await google.colab.kernel.invokeFunction('convertToInteractive',\n",
              "                                                    [key], {});\n",
              "        if (!dataTable) return;\n",
              "\n",
              "        const docLinkHtml = 'Like what you see? Visit the ' +\n",
              "          '<a target=\"_blank\" href=https://colab.research.google.com/notebooks/data_table.ipynb>data table notebook</a>'\n",
              "          + ' to learn more about interactive tables.';\n",
              "        element.innerHTML = '';\n",
              "        dataTable['output_type'] = 'display_data';\n",
              "        await google.colab.output.renderOutput(dataTable, element);\n",
              "        const docLink = document.createElement('div');\n",
              "        docLink.innerHTML = docLinkHtml;\n",
              "        element.appendChild(docLink);\n",
              "      }\n",
              "    </script>\n",
              "  </div>\n",
              "  \n",
              "    </div>\n",
              "  </div>\n",
              "  "
            ],
            "application/vnd.google.colaboratory.intrinsic+json": {
              "type": "dataframe",
              "variable_name": "data_frame",
              "summary": "{\n  \"name\": \"data_frame\",\n  \"rows\": 3,\n  \"fields\": [\n    {\n      \"column\": \"Predictions\",\n      \"properties\": {\n        \"dtype\": \"object\",\n        \"semantic_type\": \"\",\n        \"description\": \"\"\n      }\n    },\n    {\n      \"column\": \"Accuracy\",\n      \"properties\": {\n        \"dtype\": \"date\",\n        \"min\": 92.10526315789474,\n        \"max\": 94.73684210526315,\n        \"num_unique_values\": 2,\n        \"samples\": [\n          94.73684210526315,\n          92.10526315789474\n        ],\n        \"semantic_type\": \"\",\n        \"description\": \"\"\n      }\n    }\n  ]\n}"
            }
          },
          "metadata": {},
          "execution_count": 45
        }
      ],
      "source": [
        "data_frame"
      ]
    },
    {
      "cell_type": "code",
      "execution_count": null,
      "metadata": {
        "id": "qpNqnDVpzBud"
      },
      "outputs": [],
      "source": [
        "import pickle"
      ]
    },
    {
      "cell_type": "code",
      "execution_count": null,
      "metadata": {
        "id": "OBnWs1Fy8w5h"
      },
      "outputs": [],
      "source": [
        "flname = 'logistic_model.sav'\n",
        "pickle.dump(k_classifier,open(flname, 'wb'))"
      ]
    },
    {
      "cell_type": "code",
      "execution_count": null,
      "metadata": {
        "id": "tb7AF0m48_8C"
      },
      "outputs": [],
      "source": [
        "# loading the saved model\n",
        "loaded_model = pickle.load(open('/content/logistic_model.sav','rb'))"
      ]
    },
    {
      "cell_type": "code",
      "execution_count": null,
      "metadata": {
        "colab": {
          "base_uri": "https://localhost:8080/"
        },
        "id": "G4kcalsd9FTx",
        "outputId": "b4f57310-9575-4828-b077-e2f1c9c43a12"
      },
      "outputs": [
        {
          "output_type": "stream",
          "name": "stdout",
          "text": [
            "Enter the person experience :2\n",
            "Enter the person experience :2\n",
            "Enter the person experience :2\n",
            "Enter the person experience :0.4\n",
            "SepalLengthCm\tSepalWidthCm\tPetalLengthCm\tPetalWidthCm\toutput is =  ['Iris-setosa']\n"
          ]
        },
        {
          "output_type": "stream",
          "name": "stderr",
          "text": [
            "/usr/local/lib/python3.11/dist-packages/sklearn/base.py:465: UserWarning: X does not have valid feature names, but KNeighborsClassifier was fitted with feature names\n",
            "  warnings.warn(\n"
          ]
        }
      ],
      "source": [
        "SepalLengthCm = float(input(\"Enter the person experience :\"))\n",
        "SepalWidthCm = float(input(\"Enter the person experience :\"))\n",
        "PetalLengthCm = float(input(\"Enter the person experience :\"))\n",
        "PetalWidthCm\t= float(input(\"Enter the person experience :\"))\n",
        "output = loaded_model.predict([[SepalLengthCm,SepalWidthCm,PetalLengthCm,PetalWidthCm]])\n",
        "print('SepalLengthCm\tSepalWidthCm\tPetalLengthCm\tPetalWidthCm\toutput is = ',output)"
      ]
    },
    {
      "cell_type": "code",
      "execution_count": null,
      "metadata": {
        "id": "KjOzT2i8BWls",
        "colab": {
          "base_uri": "https://localhost:8080/"
        },
        "outputId": "f72fa7de-2e70-4e6a-8463-87f29b114e12"
      },
      "outputs": [
        {
          "output_type": "stream",
          "name": "stdout",
          "text": [
            "Requirement already satisfied: numpy==1.26.3 in /usr/local/lib/python3.11/dist-packages (from -r /content/requirements.txt (line 1)) (1.26.3)\n",
            "Requirement already satisfied: scikit-learn==1.3.2 in /usr/local/lib/python3.11/dist-packages (from -r /content/requirements.txt (line 2)) (1.3.2)\n",
            "Requirement already satisfied: streamlit==1.29.0 in /usr/local/lib/python3.11/dist-packages (from -r /content/requirements.txt (line 3)) (1.29.0)\n",
            "Requirement already satisfied: streamlit-option-menu==0.3.6 in /usr/local/lib/python3.11/dist-packages (from -r /content/requirements.txt (line 4)) (0.3.6)\n",
            "Requirement already satisfied: scipy>=1.5.0 in /usr/local/lib/python3.11/dist-packages (from scikit-learn==1.3.2->-r /content/requirements.txt (line 2)) (1.13.1)\n",
            "Requirement already satisfied: joblib>=1.1.1 in /usr/local/lib/python3.11/dist-packages (from scikit-learn==1.3.2->-r /content/requirements.txt (line 2)) (1.4.2)\n",
            "Requirement already satisfied: threadpoolctl>=2.0.0 in /usr/local/lib/python3.11/dist-packages (from scikit-learn==1.3.2->-r /content/requirements.txt (line 2)) (3.5.0)\n",
            "Requirement already satisfied: altair<6,>=4.0 in /usr/local/lib/python3.11/dist-packages (from streamlit==1.29.0->-r /content/requirements.txt (line 3)) (5.5.0)\n",
            "Requirement already satisfied: blinker<2,>=1.0.0 in /usr/local/lib/python3.11/dist-packages (from streamlit==1.29.0->-r /content/requirements.txt (line 3)) (1.9.0)\n",
            "Requirement already satisfied: cachetools<6,>=4.0 in /usr/local/lib/python3.11/dist-packages (from streamlit==1.29.0->-r /content/requirements.txt (line 3)) (5.5.1)\n",
            "Requirement already satisfied: click<9,>=7.0 in /usr/local/lib/python3.11/dist-packages (from streamlit==1.29.0->-r /content/requirements.txt (line 3)) (8.1.8)\n",
            "Requirement already satisfied: importlib-metadata<7,>=1.4 in /usr/local/lib/python3.11/dist-packages (from streamlit==1.29.0->-r /content/requirements.txt (line 3)) (6.11.0)\n",
            "Requirement already satisfied: packaging<24,>=16.8 in /usr/local/lib/python3.11/dist-packages (from streamlit==1.29.0->-r /content/requirements.txt (line 3)) (23.2)\n",
            "Requirement already satisfied: pandas<3,>=1.3.0 in /usr/local/lib/python3.11/dist-packages (from streamlit==1.29.0->-r /content/requirements.txt (line 3)) (2.2.2)\n",
            "Requirement already satisfied: pillow<11,>=7.1.0 in /usr/local/lib/python3.11/dist-packages (from streamlit==1.29.0->-r /content/requirements.txt (line 3)) (10.4.0)\n",
            "Requirement already satisfied: protobuf<5,>=3.20 in /usr/local/lib/python3.11/dist-packages (from streamlit==1.29.0->-r /content/requirements.txt (line 3)) (4.25.5)\n",
            "Requirement already satisfied: pyarrow>=6.0 in /usr/local/lib/python3.11/dist-packages (from streamlit==1.29.0->-r /content/requirements.txt (line 3)) (17.0.0)\n",
            "Requirement already satisfied: python-dateutil<3,>=2.7.3 in /usr/local/lib/python3.11/dist-packages (from streamlit==1.29.0->-r /content/requirements.txt (line 3)) (2.8.2)\n",
            "Requirement already satisfied: requests<3,>=2.27 in /usr/local/lib/python3.11/dist-packages (from streamlit==1.29.0->-r /content/requirements.txt (line 3)) (2.32.3)\n",
            "Requirement already satisfied: rich<14,>=10.14.0 in /usr/local/lib/python3.11/dist-packages (from streamlit==1.29.0->-r /content/requirements.txt (line 3)) (13.9.4)\n",
            "Requirement already satisfied: tenacity<9,>=8.1.0 in /usr/local/lib/python3.11/dist-packages (from streamlit==1.29.0->-r /content/requirements.txt (line 3)) (8.5.0)\n",
            "Requirement already satisfied: toml<2,>=0.10.1 in /usr/local/lib/python3.11/dist-packages (from streamlit==1.29.0->-r /content/requirements.txt (line 3)) (0.10.2)\n",
            "Requirement already satisfied: typing-extensions<5,>=4.3.0 in /usr/local/lib/python3.11/dist-packages (from streamlit==1.29.0->-r /content/requirements.txt (line 3)) (4.12.2)\n",
            "Requirement already satisfied: tzlocal<6,>=1.1 in /usr/local/lib/python3.11/dist-packages (from streamlit==1.29.0->-r /content/requirements.txt (line 3)) (5.2)\n",
            "Requirement already satisfied: validators<1,>=0.2 in /usr/local/lib/python3.11/dist-packages (from streamlit==1.29.0->-r /content/requirements.txt (line 3)) (0.34.0)\n",
            "Requirement already satisfied: gitpython!=3.1.19,<4,>=3.0.7 in /usr/local/lib/python3.11/dist-packages (from streamlit==1.29.0->-r /content/requirements.txt (line 3)) (3.1.44)\n",
            "Requirement already satisfied: pydeck<1,>=0.8.0b4 in /usr/local/lib/python3.11/dist-packages (from streamlit==1.29.0->-r /content/requirements.txt (line 3)) (0.9.1)\n",
            "Requirement already satisfied: tornado<7,>=6.0.3 in /usr/local/lib/python3.11/dist-packages (from streamlit==1.29.0->-r /content/requirements.txt (line 3)) (6.3.3)\n",
            "Requirement already satisfied: watchdog>=2.1.5 in /usr/local/lib/python3.11/dist-packages (from streamlit==1.29.0->-r /content/requirements.txt (line 3)) (6.0.0)\n",
            "Requirement already satisfied: jinja2 in /usr/local/lib/python3.11/dist-packages (from altair<6,>=4.0->streamlit==1.29.0->-r /content/requirements.txt (line 3)) (3.1.5)\n",
            "Requirement already satisfied: jsonschema>=3.0 in /usr/local/lib/python3.11/dist-packages (from altair<6,>=4.0->streamlit==1.29.0->-r /content/requirements.txt (line 3)) (4.23.0)\n",
            "Requirement already satisfied: narwhals>=1.14.2 in /usr/local/lib/python3.11/dist-packages (from altair<6,>=4.0->streamlit==1.29.0->-r /content/requirements.txt (line 3)) (1.23.0)\n",
            "Requirement already satisfied: gitdb<5,>=4.0.1 in /usr/local/lib/python3.11/dist-packages (from gitpython!=3.1.19,<4,>=3.0.7->streamlit==1.29.0->-r /content/requirements.txt (line 3)) (4.0.12)\n",
            "Requirement already satisfied: zipp>=0.5 in /usr/local/lib/python3.11/dist-packages (from importlib-metadata<7,>=1.4->streamlit==1.29.0->-r /content/requirements.txt (line 3)) (3.21.0)\n",
            "Requirement already satisfied: pytz>=2020.1 in /usr/local/lib/python3.11/dist-packages (from pandas<3,>=1.3.0->streamlit==1.29.0->-r /content/requirements.txt (line 3)) (2024.2)\n",
            "Requirement already satisfied: tzdata>=2022.7 in /usr/local/lib/python3.11/dist-packages (from pandas<3,>=1.3.0->streamlit==1.29.0->-r /content/requirements.txt (line 3)) (2025.1)\n",
            "Requirement already satisfied: six>=1.5 in /usr/local/lib/python3.11/dist-packages (from python-dateutil<3,>=2.7.3->streamlit==1.29.0->-r /content/requirements.txt (line 3)) (1.17.0)\n",
            "Requirement already satisfied: charset-normalizer<4,>=2 in /usr/local/lib/python3.11/dist-packages (from requests<3,>=2.27->streamlit==1.29.0->-r /content/requirements.txt (line 3)) (3.4.1)\n",
            "Requirement already satisfied: idna<4,>=2.5 in /usr/local/lib/python3.11/dist-packages (from requests<3,>=2.27->streamlit==1.29.0->-r /content/requirements.txt (line 3)) (3.10)\n",
            "Requirement already satisfied: urllib3<3,>=1.21.1 in /usr/local/lib/python3.11/dist-packages (from requests<3,>=2.27->streamlit==1.29.0->-r /content/requirements.txt (line 3)) (2.3.0)\n",
            "Requirement already satisfied: certifi>=2017.4.17 in /usr/local/lib/python3.11/dist-packages (from requests<3,>=2.27->streamlit==1.29.0->-r /content/requirements.txt (line 3)) (2024.12.14)\n",
            "Requirement already satisfied: markdown-it-py>=2.2.0 in /usr/local/lib/python3.11/dist-packages (from rich<14,>=10.14.0->streamlit==1.29.0->-r /content/requirements.txt (line 3)) (3.0.0)\n",
            "Requirement already satisfied: pygments<3.0.0,>=2.13.0 in /usr/local/lib/python3.11/dist-packages (from rich<14,>=10.14.0->streamlit==1.29.0->-r /content/requirements.txt (line 3)) (2.18.0)\n",
            "Requirement already satisfied: smmap<6,>=3.0.1 in /usr/local/lib/python3.11/dist-packages (from gitdb<5,>=4.0.1->gitpython!=3.1.19,<4,>=3.0.7->streamlit==1.29.0->-r /content/requirements.txt (line 3)) (5.0.2)\n",
            "Requirement already satisfied: MarkupSafe>=2.0 in /usr/local/lib/python3.11/dist-packages (from jinja2->altair<6,>=4.0->streamlit==1.29.0->-r /content/requirements.txt (line 3)) (3.0.2)\n",
            "Requirement already satisfied: attrs>=22.2.0 in /usr/local/lib/python3.11/dist-packages (from jsonschema>=3.0->altair<6,>=4.0->streamlit==1.29.0->-r /content/requirements.txt (line 3)) (24.3.0)\n",
            "Requirement already satisfied: jsonschema-specifications>=2023.03.6 in /usr/local/lib/python3.11/dist-packages (from jsonschema>=3.0->altair<6,>=4.0->streamlit==1.29.0->-r /content/requirements.txt (line 3)) (2024.10.1)\n",
            "Requirement already satisfied: referencing>=0.28.4 in /usr/local/lib/python3.11/dist-packages (from jsonschema>=3.0->altair<6,>=4.0->streamlit==1.29.0->-r /content/requirements.txt (line 3)) (0.36.1)\n",
            "Requirement already satisfied: rpds-py>=0.7.1 in /usr/local/lib/python3.11/dist-packages (from jsonschema>=3.0->altair<6,>=4.0->streamlit==1.29.0->-r /content/requirements.txt (line 3)) (0.22.3)\n",
            "Requirement already satisfied: mdurl~=0.1 in /usr/local/lib/python3.11/dist-packages (from markdown-it-py>=2.2.0->rich<14,>=10.14.0->streamlit==1.29.0->-r /content/requirements.txt (line 3)) (0.1.2)\n"
          ]
        }
      ],
      "source": [
        "!pip install -r /content/requirements.txt"
      ]
    },
    {
      "cell_type": "code",
      "execution_count": null,
      "metadata": {
        "id": "SeruVJWM-GGL"
      },
      "outputs": [],
      "source": [
        "# %%writefile  streamlit.py\n",
        "\n",
        "# import os\n",
        "# import pickle\n",
        "# import streamlit as st\n",
        "# from streamlit_option_menu import option_menu\n",
        "\n",
        "# # Set page configuration\n",
        "# st.set_page_config(page_title=\"Health Assistant\",\n",
        "#                    layout=\"wide\",\n",
        "#                    page_icon=\"🧑‍⚕️\")\n",
        "\n",
        "\n",
        "# # getting the working directory of the main.py\n",
        "# working_dir = os.path.dirname(os.path.abspath(__file__))\n",
        "\n",
        "# # loading the saved models\n",
        "\n",
        "# diabetes_model = pickle.load(open(f'{working_dir}/saved_models/diabetes_model.sav', 'rb'))\n",
        "\n",
        "# heart_disease_model = pickle.load(open(f'{working_dir}/saved_models/heart_disease_model.sav', 'rb'))\n",
        "\n",
        "# parkinsons_model = pickle.load(open(f'{working_dir}/saved_models/parkinsons_model.sav', 'rb'))\n",
        "\n",
        "# # sidebar for navigation\n",
        "# with st.sidebar:\n",
        "#     selected = option_menu('Multiple Disease Prediction System',\n",
        "\n",
        "#                            ['Diabetes Prediction',\n",
        "#                             'Heart Disease Prediction',\n",
        "#                             'Parkinsons Prediction'],\n",
        "#                            menu_icon='hospital-fill',\n",
        "#                            icons=['activity', 'heart', 'person'],\n",
        "#                            default_index=0)\n",
        "\n",
        "\n",
        "# # Diabetes Prediction Page\n",
        "# if selected == 'Diabetes Prediction':\n",
        "\n",
        "#     # page title\n",
        "#     st.title('Diabetes Prediction using ML')\n",
        "\n",
        "#     # getting the input data from the user\n",
        "#     col1, col2, col3 = st.columns(3)\n",
        "\n",
        "#     with col1:\n",
        "#         Pregnancies = st.text_input('Number of Pregnancies')\n",
        "\n",
        "#     with col2:\n",
        "#         Glucose = st.text_input('Glucose Level')\n",
        "\n",
        "#     with col3:\n",
        "#         BloodPressure = st.text_input('Blood Pressure value')\n",
        "\n",
        "#     with col1:\n",
        "#         SkinThickness = st.text_input('Skin Thickness value')\n",
        "\n",
        "#     with col2:\n",
        "#         Insulin = st.text_input('Insulin Level')\n",
        "\n",
        "#     with col3:\n",
        "#         BMI = st.text_input('BMI value')\n",
        "\n",
        "#     with col1:\n",
        "#         DiabetesPedigreeFunction = st.text_input('Diabetes Pedigree Function value')\n",
        "\n",
        "#     with col2:\n",
        "#         Age = st.text_input('Age of the Person')\n",
        "\n",
        "\n",
        "#     # code for Prediction\n",
        "#     diab_diagnosis = ''\n",
        "\n",
        "#     # creating a button for Prediction\n",
        "\n",
        "#     if st.button('Diabetes Test Result'):\n",
        "\n",
        "#         user_input = [Pregnancies, Glucose, BloodPressure, SkinThickness, Insulin,\n",
        "#                       BMI, DiabetesPedigreeFunction, Age]\n",
        "\n",
        "#         user_input = [float(x) for x in user_input]\n",
        "\n",
        "#         diab_prediction = diabetes_model.predict([user_input])\n",
        "\n",
        "#         if diab_prediction[0] == 1:\n",
        "#             diab_diagnosis = 'The person is diabetic'\n",
        "#         else:\n",
        "#             diab_diagnosis = 'The person is not diabetic'\n",
        "\n",
        "#     st.success(diab_diagnosis)\n",
        "\n",
        "# # Heart Disease Prediction Page\n",
        "# if selected == 'Heart Disease Prediction':\n",
        "\n",
        "#     # page title\n",
        "#     st.title('Heart Disease Prediction using ML')\n",
        "\n",
        "#     col1, col2, col3 = st.columns(3)\n",
        "\n",
        "#     with col1:\n",
        "#         age = st.text_input('Age')\n",
        "\n",
        "#     with col2:\n",
        "#         sex = st.text_input('Sex')\n",
        "\n",
        "#     with col3:\n",
        "#         cp = st.text_input('Chest Pain types')\n",
        "\n",
        "#     with col1:\n",
        "#         trestbps = st.text_input('Resting Blood Pressure')\n",
        "\n",
        "#     with col2:\n",
        "#         chol = st.text_input('Serum Cholestoral in mg/dl')\n",
        "\n",
        "#     with col3:\n",
        "#         fbs = st.text_input('Fasting Blood Sugar > 120 mg/dl')\n",
        "\n",
        "#     with col1:\n",
        "#         restecg = st.text_input('Resting Electrocardiographic results')\n",
        "\n",
        "#     with col2:\n",
        "#         thalach = st.text_input('Maximum Heart Rate achieved')\n",
        "\n",
        "#     with col3:\n",
        "#         exang = st.text_input('Exercise Induced Angina')\n",
        "\n",
        "#     with col1:\n",
        "#         oldpeak = st.text_input('ST depression induced by exercise')\n",
        "\n",
        "#     with col2:\n",
        "#         slope = st.text_input('Slope of the peak exercise ST segment')\n",
        "\n",
        "#     with col3:\n",
        "#         ca = st.text_input('Major vessels colored by flourosopy')\n",
        "\n",
        "#     with col1:\n",
        "#         thal = st.text_input('thal: 0 = normal; 1 = fixed defect; 2 = reversable defect')\n",
        "\n",
        "#     # code for Prediction\n",
        "#     heart_diagnosis = ''\n",
        "\n",
        "#     # creating a button for Prediction\n",
        "\n",
        "#     if st.button('Heart Disease Test Result'):\n",
        "\n",
        "#         user_input = [age, sex, cp, trestbps, chol, fbs, restecg, thalach, exang, oldpeak, slope, ca, thal]\n",
        "\n",
        "#         user_input = [float(x) for x in user_input]\n",
        "\n",
        "#         heart_prediction = heart_disease_model.predict([user_input])\n",
        "\n",
        "#         if heart_prediction[0] == 1:\n",
        "#             heart_diagnosis = 'The person is having heart disease'\n",
        "#         else:\n",
        "#             heart_diagnosis = 'The person does not have any heart disease'\n",
        "\n",
        "#     st.success(heart_diagnosis)\n",
        "\n",
        "# # Parkinson's Prediction Page\n",
        "# if selected == \"Parkinsons Prediction\":\n",
        "\n",
        "#     # page title\n",
        "#     st.title(\"Parkinson's Disease Prediction using ML\")\n",
        "\n",
        "#     col1, col2, col3, col4, col5 = st.columns(5)\n",
        "\n",
        "#     with col1:\n",
        "#         fo = st.text_input('MDVP:Fo(Hz)')\n",
        "\n",
        "#     with col2:\n",
        "#         fhi = st.text_input('MDVP:Fhi(Hz)')\n",
        "\n",
        "#     with col3:\n",
        "#         flo = st.text_input('MDVP:Flo(Hz)')\n",
        "\n",
        "#     with col4:\n",
        "#         Jitter_percent = st.text_input('MDVP:Jitter(%)')\n",
        "\n",
        "#     with col5:\n",
        "#         Jitter_Abs = st.text_input('MDVP:Jitter(Abs)')\n",
        "\n",
        "#     with col1:\n",
        "#         RAP = st.text_input('MDVP:RAP')\n",
        "\n",
        "#     with col2:\n",
        "#         PPQ = st.text_input('MDVP:PPQ')\n",
        "\n",
        "#     with col3:\n",
        "#         DDP = st.text_input('Jitter:DDP')\n",
        "\n",
        "#     with col4:\n",
        "#         Shimmer = st.text_input('MDVP:Shimmer')\n",
        "\n",
        "#     with col5:\n",
        "#         Shimmer_dB = st.text_input('MDVP:Shimmer(dB)')\n",
        "\n",
        "#     with col1:\n",
        "#         APQ3 = st.text_input('Shimmer:APQ3')\n",
        "\n",
        "#     with col2:\n",
        "#         APQ5 = st.text_input('Shimmer:APQ5')\n",
        "\n",
        "#     with col3:\n",
        "#         APQ = st.text_input('MDVP:APQ')\n",
        "\n",
        "#     with col4:\n",
        "#         DDA = st.text_input('Shimmer:DDA')\n",
        "\n",
        "#     with col5:\n",
        "#         NHR = st.text_input('NHR')\n",
        "\n",
        "#     with col1:\n",
        "#         HNR = st.text_input('HNR')\n",
        "\n",
        "#     with col2:\n",
        "#         RPDE = st.text_input('RPDE')\n",
        "\n",
        "#     with col3:\n",
        "#         DFA = st.text_input('DFA')\n",
        "\n",
        "#     with col4:\n",
        "#         spread1 = st.text_input('spread1')\n",
        "\n",
        "#     with col5:\n",
        "#         spread2 = st.text_input('spread2')\n",
        "\n",
        "#     with col1:\n",
        "#         D2 = st.text_input('D2')\n",
        "\n",
        "#     with col2:\n",
        "#         PPE = st.text_input('PPE')\n",
        "\n",
        "#     # code for Prediction\n",
        "#     parkinsons_diagnosis = ''\n",
        "\n",
        "#     # creating a button for Prediction\n",
        "#     if st.button(\"Parkinson's Test Result\"):\n",
        "\n",
        "#         user_input = [fo, fhi, flo, Jitter_percent, Jitter_Abs,\n",
        "#                       RAP, PPQ, DDP,Shimmer, Shimmer_dB, APQ3, APQ5,\n",
        "#                       APQ, DDA, NHR, HNR, RPDE, DFA, spread1, spread2, D2, PPE]\n",
        "\n",
        "#         user_input = [float(x) for x in user_input]\n",
        "\n",
        "#         parkinsons_prediction = parkinsons_model.predict([user_input])\n",
        "\n",
        "#         if parkinsons_prediction[0] == 1:\n",
        "#             parkinsons_diagnosis = \"The person has Parkinson's disease\"\n",
        "#         else:\n",
        "#             parkinsons_diagnosis = \"The person does not have Parkinson's disease\"\n",
        "\n",
        "#     st.success(parkinsons_diagnosis)\n"
      ]
    },
    {
      "cell_type": "code",
      "execution_count": null,
      "metadata": {
        "id": "rMROUnkGAl68",
        "colab": {
          "base_uri": "https://localhost:8080/"
        },
        "outputId": "4a009c20-1e89-432f-ea73-d8fffdeffea6"
      },
      "outputs": [
        {
          "output_type": "stream",
          "name": "stdout",
          "text": [
            "Writing streamlit_app.py\n"
          ]
        }
      ],
      "source": [
        "%%writefile streamlit_app.py\n",
        "\n",
        "import streamlit as st\n",
        "import pickle\n",
        "\n",
        "st.title(\"Iris_flower_Classification\")\n",
        "# Load the saved model\n",
        "loaded_model = pickle.load(open('/content/logistic_model.sav','rb'))\n",
        "\n",
        "# Create input fields for the four variables\n",
        "SepalLengthCm = st.number_input(\"Enter Sepal Length (cm):\")\n",
        "SepalWidthCm = st.number_input(\"Enter Sepal Width (cm):\")\n",
        "PetalLengthCm = st.number_input(\"Enter Petal Length (cm):\")\n",
        "PetalWidthCm = st.number_input(\"Enter Petal Width (cm):\")\n",
        "\n",
        "# Create a button to trigger prediction\n",
        "if st.button(\"Predict\"):\n",
        "    # Make prediction using the loaded model\n",
        "    output = loaded_model.predict([[SepalLengthCm, SepalWidthCm, PetalLengthCm, PetalWidthCm]])\n",
        "\n",
        "    # Display the prediction\n",
        "    st.write(f\"The predicted output is: {output[0]}\")"
      ]
    },
    {
      "cell_type": "code",
      "source": [
        "!wget -q -O - ipv4.icanhazip.com"
      ],
      "metadata": {
        "colab": {
          "base_uri": "https://localhost:8080/"
        },
        "id": "_zyDPix6GvmF",
        "outputId": "ae6ced86-3179-4716-f603-26a766fd48b2"
      },
      "execution_count": null,
      "outputs": [
        {
          "output_type": "stream",
          "name": "stdout",
          "text": [
            "34.86.37.112\n"
          ]
        }
      ]
    },
    {
      "cell_type": "code",
      "source": [
        "! streamlit run /content/streamlit_app.py & npx localtunnel --port 8501"
      ],
      "metadata": {
        "colab": {
          "base_uri": "https://localhost:8080/"
        },
        "id": "66x1yzfMG58N",
        "outputId": "6f24e920-efbc-400b-c70c-9b3e79a99482"
      },
      "execution_count": null,
      "outputs": [
        {
          "output_type": "stream",
          "name": "stdout",
          "text": [
            "\u001b[1G\u001b[0K⠙\u001b[1G\u001b[0K⠹\u001b[1G\u001b[0K⠸\u001b[1G\u001b[0K⠼\u001b[1G\u001b[0K⠴\u001b[1G\u001b[0K⠦\u001b[1G\u001b[0K\u001b[1G\u001b[0JNeed to install the following packages:\n",
            "localtunnel@2.0.2\n",
            "Ok to proceed? (y) \u001b[20G\n",
            "Collecting usage statistics. To deactivate, set browser.gatherUsageStats to False.\n",
            "\u001b[0m\n",
            "\u001b[0m\n",
            "\u001b[34m\u001b[1m  You can now view your Streamlit app in your browser.\u001b[0m\n",
            "\u001b[0m\n",
            "\u001b[34m  Network URL: \u001b[0m\u001b[1mhttp://172.28.0.12:8501\u001b[0m\n",
            "\u001b[34m  External URL: \u001b[0m\u001b[1mhttp://34.86.37.112:8501\u001b[0m\n",
            "\u001b[0m\n",
            "y\n",
            "\n",
            "\u001b[1G\u001b[0K⠙\u001b[1G\u001b[0K⠹\u001b[1G\u001b[0K⠸\u001b[1G\u001b[0K⠼\u001b[1G\u001b[0K⠴\u001b[1G\u001b[0K⠦\u001b[1G\u001b[0K⠧\u001b[1G\u001b[0K⠇\u001b[1G\u001b[0K⠏\u001b[1G\u001b[0K⠋\u001b[1G\u001b[0K⠙\u001b[1G\u001b[0K⠹\u001b[1G\u001b[0K⠸\u001b[1G\u001b[0K⠼\u001b[1G\u001b[0K⠴\u001b[1G\u001b[0K⠦\u001b[1G\u001b[0K⠧\u001b[1G\u001b[0K⠇\u001b[1G\u001b[0K⠏\u001b[1G\u001b[0K⠋\u001b[1G\u001b[0K⠙\u001b[1G\u001b[0K⠹\u001b[1G\u001b[0Kyour url is: https://rude-paws-dress.loca.lt\n",
            "/usr/local/lib/python3.11/dist-packages/sklearn/base.py:465: UserWarning: X does not have valid feature names, but KNeighborsClassifier was fitted with feature names\n",
            "  warnings.warn(\n",
            "/usr/local/lib/python3.11/dist-packages/sklearn/base.py:465: UserWarning: X does not have valid feature names, but KNeighborsClassifier was fitted with feature names\n",
            "  warnings.warn(\n",
            "^c\n",
            "^C\n",
            "browser.gatherUsageStats to False\n",
            "\u001b[34m  Stopping...\u001b[0m\n",
            "^C\n"
          ]
        }
      ]
    },
    {
      "cell_type": "markdown",
      "source": [
        "to put the web app in online we need pyngrok"
      ],
      "metadata": {
        "id": "14p71BBtH3TY"
      }
    },
    {
      "cell_type": "code",
      "source": [
        "!pip install pyngrok\n",
        "# !pip install -r /content/requirements.txt"
      ],
      "metadata": {
        "colab": {
          "base_uri": "https://localhost:8080/"
        },
        "id": "hHs3lFYfJC8M",
        "outputId": "f963eaab-888f-4336-bf1d-416d062795e6"
      },
      "execution_count": null,
      "outputs": [
        {
          "output_type": "stream",
          "name": "stdout",
          "text": [
            "Requirement already satisfied: pyngrok in /usr/local/lib/python3.11/dist-packages (7.2.3)\n",
            "Requirement already satisfied: PyYAML>=5.1 in /usr/local/lib/python3.11/dist-packages (from pyngrok) (6.0.2)\n"
          ]
        }
      ]
    },
    {
      "cell_type": "code",
      "source": [
        "import os\n",
        "from threading import Thread\n",
        "from pyngrok import ngrok"
      ],
      "metadata": {
        "id": "yg5iGiXLJDxL"
      },
      "execution_count": null,
      "outputs": []
    },
    {
      "cell_type": "code",
      "source": [
        "# ipython-input-4-45cdd6e3c9d3\n",
        "# Add your ngrok token here\n",
        "ngrok.set_auth_token('2R3AQcd8A50Mb6MLLTpx3s7ZHUk_xnNemjsB48p6FAiSuxAJ') # Replace 'your_actual_ngrok_auth_token' with your real token"
      ],
      "metadata": {
        "colab": {
          "base_uri": "https://localhost:8080/"
        },
        "id": "7CjOeEHvJUbR",
        "outputId": "4a216dbf-c920-4a75-8529-ee66fcc2eaf4"
      },
      "execution_count": null,
      "outputs": [
        {
          "output_type": "stream",
          "name": "stdout",
          "text": []
        }
      ]
    },
    {
      "cell_type": "code",
      "source": [
        "def run_streamlit():\n",
        "    # Change the port if 8501 is already in use or if you prefer another port\n",
        "    os.system('streamlit run /content/streamlit_app.py --server.port 8501')"
      ],
      "metadata": {
        "id": "tEzYEPsaJYa5"
      },
      "execution_count": null,
      "outputs": []
    },
    {
      "cell_type": "code",
      "source": [
        "# Start a thread to run the Streamlit app\n",
        "thread = Thread(target=run_streamlit)\n",
        "thread.start()"
      ],
      "metadata": {
        "id": "HVbPi4d2Jjyg"
      },
      "execution_count": null,
      "outputs": []
    },
    {
      "cell_type": "code",
      "source": [
        "# Open a tunnel to the streamlit port 8501\n",
        "public_url_1 = ngrok.connect(addr='8501', proto='http', bind_tls=True)\n",
        "print('Your Streamlit app is live at:', public_url_1)"
      ],
      "metadata": {
        "colab": {
          "base_uri": "https://localhost:8080/"
        },
        "id": "r1g1BokZJnhf",
        "outputId": "82195a50-d2eb-4a58-86a9-30a10030a822"
      },
      "execution_count": null,
      "outputs": [
        {
          "output_type": "stream",
          "name": "stdout",
          "text": [
            "Your Streamlit app is live at: NgrokTunnel: \"https://3a52-34-86-37-112.ngrok-free.app\" -> \"http://localhost:8501\"\n"
          ]
        }
      ]
    },
    {
      "cell_type": "code",
      "source": [],
      "metadata": {
        "id": "uvElspY7JsNy"
      },
      "execution_count": null,
      "outputs": []
    }
  ],
  "metadata": {
    "colab": {
      "provenance": []
    },
    "kernelspec": {
      "display_name": "Python 3",
      "name": "python3"
    },
    "language_info": {
      "name": "python"
    }
  },
  "nbformat": 4,
  "nbformat_minor": 0
}